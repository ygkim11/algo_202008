{
 "cells": [
  {
   "cell_type": "code",
   "execution_count": 1,
   "metadata": {},
   "outputs": [],
   "source": [
    "import pandas as pd"
   ]
  },
  {
   "cell_type": "code",
   "execution_count": 3,
   "metadata": {},
   "outputs": [],
   "source": [
    "import csv"
   ]
  },
  {
   "cell_type": "code",
   "execution_count": 4,
   "metadata": {
    "scrolled": true
   },
   "outputs": [
    {
     "data": {
      "text/html": [
       "<div>\n",
       "<style scoped>\n",
       "    .dataframe tbody tr th:only-of-type {\n",
       "        vertical-align: middle;\n",
       "    }\n",
       "\n",
       "    .dataframe tbody tr th {\n",
       "        vertical-align: top;\n",
       "    }\n",
       "\n",
       "    .dataframe thead th {\n",
       "        text-align: right;\n",
       "    }\n",
       "</style>\n",
       "<table border=\"1\" class=\"dataframe\">\n",
       "  <thead>\n",
       "    <tr style=\"text-align: right;\">\n",
       "      <th></th>\n",
       "      <th>Unnamed: 0</th>\n",
       "      <th>57800</th>\n",
       "      <th>16930719</th>\n",
       "      <th>988996</th>\n",
       "      <th>20200819</th>\n",
       "      <th>59000</th>\n",
       "      <th>59200</th>\n",
       "      <th>57800.1</th>\n",
       "      <th>Unnamed: 8</th>\n",
       "    </tr>\n",
       "  </thead>\n",
       "  <tbody>\n",
       "    <tr>\n",
       "      <th>0</th>\n",
       "      <td>NaN</td>\n",
       "      <td>58400</td>\n",
       "      <td>25307825</td>\n",
       "      <td>1490617</td>\n",
       "      <td>20200818</td>\n",
       "      <td>58900</td>\n",
       "      <td>59900</td>\n",
       "      <td>58000</td>\n",
       "      <td>NaN</td>\n",
       "    </tr>\n",
       "    <tr>\n",
       "      <th>1</th>\n",
       "      <td>NaN</td>\n",
       "      <td>58000</td>\n",
       "      <td>15672548</td>\n",
       "      <td>909053</td>\n",
       "      <td>20200814</td>\n",
       "      <td>58000</td>\n",
       "      <td>58400</td>\n",
       "      <td>57700</td>\n",
       "      <td>NaN</td>\n",
       "    </tr>\n",
       "    <tr>\n",
       "      <th>2</th>\n",
       "      <td>NaN</td>\n",
       "      <td>58700</td>\n",
       "      <td>22089460</td>\n",
       "      <td>1300660</td>\n",
       "      <td>20200813</td>\n",
       "      <td>59400</td>\n",
       "      <td>59600</td>\n",
       "      <td>58000</td>\n",
       "      <td>NaN</td>\n",
       "    </tr>\n",
       "    <tr>\n",
       "      <th>3</th>\n",
       "      <td>NaN</td>\n",
       "      <td>59000</td>\n",
       "      <td>18573934</td>\n",
       "      <td>1083108</td>\n",
       "      <td>20200812</td>\n",
       "      <td>58200</td>\n",
       "      <td>59000</td>\n",
       "      <td>57700</td>\n",
       "      <td>NaN</td>\n",
       "    </tr>\n",
       "    <tr>\n",
       "      <th>4</th>\n",
       "      <td>NaN</td>\n",
       "      <td>58200</td>\n",
       "      <td>24907912</td>\n",
       "      <td>1462107</td>\n",
       "      <td>20200811</td>\n",
       "      <td>58000</td>\n",
       "      <td>59500</td>\n",
       "      <td>57800</td>\n",
       "      <td>NaN</td>\n",
       "    </tr>\n",
       "    <tr>\n",
       "      <th>...</th>\n",
       "      <td>...</td>\n",
       "      <td>...</td>\n",
       "      <td>...</td>\n",
       "      <td>...</td>\n",
       "      <td>...</td>\n",
       "      <td>...</td>\n",
       "      <td>...</td>\n",
       "      <td>...</td>\n",
       "      <td>...</td>\n",
       "    </tr>\n",
       "    <tr>\n",
       "      <th>594</th>\n",
       "      <td>NaN</td>\n",
       "      <td>51200</td>\n",
       "      <td>8193250</td>\n",
       "      <td>414791</td>\n",
       "      <td>20180320</td>\n",
       "      <td>50700</td>\n",
       "      <td>51200</td>\n",
       "      <td>50100</td>\n",
       "      <td>NaN</td>\n",
       "    </tr>\n",
       "    <tr>\n",
       "      <th>595</th>\n",
       "      <td>NaN</td>\n",
       "      <td>50740</td>\n",
       "      <td>8218850</td>\n",
       "      <td>417387</td>\n",
       "      <td>20180319</td>\n",
       "      <td>50620</td>\n",
       "      <td>51340</td>\n",
       "      <td>50440</td>\n",
       "      <td>NaN</td>\n",
       "    </tr>\n",
       "    <tr>\n",
       "      <th>596</th>\n",
       "      <td>NaN</td>\n",
       "      <td>51140</td>\n",
       "      <td>12184900</td>\n",
       "      <td>618931</td>\n",
       "      <td>20180316</td>\n",
       "      <td>51220</td>\n",
       "      <td>51420</td>\n",
       "      <td>50240</td>\n",
       "      <td>NaN</td>\n",
       "    </tr>\n",
       "    <tr>\n",
       "      <th>597</th>\n",
       "      <td>NaN</td>\n",
       "      <td>51540</td>\n",
       "      <td>8882450</td>\n",
       "      <td>458294</td>\n",
       "      <td>20180315</td>\n",
       "      <td>52000</td>\n",
       "      <td>52020</td>\n",
       "      <td>51020</td>\n",
       "      <td>NaN</td>\n",
       "    </tr>\n",
       "    <tr>\n",
       "      <th>598</th>\n",
       "      <td>NaN</td>\n",
       "      <td>51760</td>\n",
       "      <td>12713250</td>\n",
       "      <td>655032</td>\n",
       "      <td>20180314</td>\n",
       "      <td>51020</td>\n",
       "      <td>52000</td>\n",
       "      <td>51000</td>\n",
       "      <td>NaN</td>\n",
       "    </tr>\n",
       "  </tbody>\n",
       "</table>\n",
       "<p>599 rows × 9 columns</p>\n",
       "</div>"
      ],
      "text/plain": [
       "     Unnamed: 0  57800  16930719   988996  20200819  59000  59200  57800.1  \\\n",
       "0           NaN  58400  25307825  1490617  20200818  58900  59900    58000   \n",
       "1           NaN  58000  15672548   909053  20200814  58000  58400    57700   \n",
       "2           NaN  58700  22089460  1300660  20200813  59400  59600    58000   \n",
       "3           NaN  59000  18573934  1083108  20200812  58200  59000    57700   \n",
       "4           NaN  58200  24907912  1462107  20200811  58000  59500    57800   \n",
       "..          ...    ...       ...      ...       ...    ...    ...      ...   \n",
       "594         NaN  51200   8193250   414791  20180320  50700  51200    50100   \n",
       "595         NaN  50740   8218850   417387  20180319  50620  51340    50440   \n",
       "596         NaN  51140  12184900   618931  20180316  51220  51420    50240   \n",
       "597         NaN  51540   8882450   458294  20180315  52000  52020    51020   \n",
       "598         NaN  51760  12713250   655032  20180314  51020  52000    51000   \n",
       "\n",
       "     Unnamed: 8  \n",
       "0           NaN  \n",
       "1           NaN  \n",
       "2           NaN  \n",
       "3           NaN  \n",
       "4           NaN  \n",
       "..          ...  \n",
       "594         NaN  \n",
       "595         NaN  \n",
       "596         NaN  \n",
       "597         NaN  \n",
       "598         NaN  \n",
       "\n",
       "[599 rows x 9 columns]"
      ]
     },
     "execution_count": 4,
     "metadata": {},
     "output_type": "execute_result"
    }
   ],
   "source": [
    "pd.read_csv(\"./db/ss.csv\")"
   ]
  },
  {
   "cell_type": "code",
   "execution_count": 13,
   "metadata": {},
   "outputs": [],
   "source": [
    "code = \"005930\""
   ]
  },
  {
   "cell_type": "code",
   "execution_count": 14,
   "metadata": {},
   "outputs": [],
   "source": [
    "f = open(r\"C:/Users/YG/PycharmProjects/algo_202008/db/\"+ code +\".csv\", \"a\", newline=\"\", encoding=\"utf8\")"
   ]
  },
  {
   "cell_type": "code",
   "execution_count": 15,
   "metadata": {},
   "outputs": [
    {
     "data": {
      "text/plain": [
       "<_io.TextIOWrapper name='C:/Users/YG/PycharmProjects/algo_202008/db/005930.csv' mode='a' encoding='utf8'>"
      ]
     },
     "execution_count": 15,
     "metadata": {},
     "output_type": "execute_result"
    }
   ],
   "source": [
    "f"
   ]
  },
  {
   "cell_type": "code",
   "execution_count": null,
   "metadata": {},
   "outputs": [],
   "source": []
  },
  {
   "cell_type": "code",
   "execution_count": 9,
   "metadata": {},
   "outputs": [],
   "source": [
    "f = open(r\"C:/Users/YG/PycharmProjects/algo_202008/db/\"+\"00\"+\".csv\", \"a\", newline=\"\", encoding=\"utf8\")\n",
    "\n",
    "with f:\n",
    "    row = [['date', 'current', 'open', 'high', 'low', 'volume', 'trade_volume']]\n",
    "    write = csv.writer(f)\n",
    "    write.writerows(row)"
   ]
  },
  {
   "cell_type": "code",
   "execution_count": null,
   "metadata": {},
   "outputs": [],
   "source": []
  }
 ],
 "metadata": {
  "kernelspec": {
   "display_name": "Python 3",
   "language": "python",
   "name": "python3"
  },
  "language_info": {
   "codemirror_mode": {
    "name": "ipython",
    "version": 3
   },
   "file_extension": ".py",
   "mimetype": "text/x-python",
   "name": "python",
   "nbconvert_exporter": "python",
   "pygments_lexer": "ipython3",
   "version": "3.6.5"
  }
 },
 "nbformat": 4,
 "nbformat_minor": 2
}
